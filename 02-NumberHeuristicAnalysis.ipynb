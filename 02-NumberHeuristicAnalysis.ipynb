{
 "cells": [
  {
   "cell_type": "code",
   "execution_count": 1,
   "metadata": {
    "collapsed": true
   },
   "outputs": [],
   "source": [
    "# Base import\n",
    "\n",
    "import imutils\n",
    "import cv2\n",
    "from imutils import contours\n",
    "\n",
    "import numpy as np\n",
    "import PIL\n",
    "\n",
    "%matplotlib inline\n",
    "\n",
    "import matplotlib\n",
    "import matplotlib.pyplot as plt\n",
    "import matplotlib.image as mpimg\n",
    "\n",
    "def excise_segmentation(image):\n",
    "    \n",
    "    resized = imutils.resize(excise_src, height=500)\n",
    "    \n",
    "    gray = cv2.cvtColor(resized, cv2.COLOR_BGR2GRAY)\n",
    "    equ = cv2.equalizeHist(gray)\n",
    "    blurred = cv2.GaussianBlur(equ, (3, 3), 0)\n",
    "    _, thresholded = cv2.threshold(blurred, 0, 255, cv2.THRESH_BINARY+cv2.THRESH_OTSU)\n",
    "    # thresholded = cv2.adaptiveThreshold(blurred, 255, cv2.ADAPTIVE_THRESH_MEAN_C, cv2.THRESH_BINARY, 11, 2)\n",
    " \n",
    "    # return the segmentationed image\n",
    "    return resized, thresholded"
   ]
  },
  {
   "cell_type": "code",
   "execution_count": 2,
   "metadata": {},
   "outputs": [
    {
     "name": "stdout",
     "output_type": "stream",
     "text": [
      "Total function and timings\n",
      "CPU times: user 43.9 ms, sys: 0 ns, total: 43.9 ms\n",
      "Wall time: 24.6 ms\n"
     ]
    },
    {
     "data": {
      "text/plain": [
       "<matplotlib.image.AxesImage at 0x7fad65988ac8>"
      ]
     },
     "execution_count": 2,
     "metadata": {},
     "output_type": "execute_result"
    },
    {
     "data": {
      "image/png": "[encoded data removed]",
      "text/plain": [
       "<matplotlib.figure.Figure at 0x7fadb46efa90>"
      ]
     },
     "metadata": {},
     "output_type": "display_data"
    }
   ],
   "source": [
    "print(\"Total function and timings\")\n",
    "excise_src = cv2.imread(\"test_data/IMG_0307.JPG\")\n",
    "\n",
    "%time resized, thresholded = excise_segmentation(excise_src)\n",
    "\n",
    "plt.imshow(cv2.cvtColor(thresholded, cv2.COLOR_GRAY2RGB))"
   ]
  },
  {
   "cell_type": "markdown",
   "metadata": {},
   "source": [
    "### Find contours in the excise (i.e,. the outlines of the characters) and sort them from left to right\n",
    "### Without size filter"
   ]
  },
  {
   "cell_type": "code",
   "execution_count": 6,
   "metadata": {},
   "outputs": [
    {
     "data": {
      "text/plain": [
       "<matplotlib.image.AxesImage at 0x7fad65701160>"
      ]
     },
     "execution_count": 6,
     "metadata": {},
     "output_type": "execute_result"
    },
    {
     "data": {
      "image/png": "[encoded data removed]",
      "text/plain": [
       "<matplotlib.figure.Figure at 0x7fad659c70f0>"
      ]
     },
     "metadata": {},
     "output_type": "display_data"
    }
   ],
   "source": [
    "edged = cv2.Canny(thresholded, 30, 200)\n",
    "width, height = thresholded.shape[:2]\n",
    "\n",
    "refCnts = cv2.findContours(edged.copy(), cv2.RETR_EXTERNAL, cv2.CHAIN_APPROX_SIMPLE)[1]\n",
    "# refCnts = refCnts[0] if imutils.is_cv2() else refCnts[1]\n",
    "# refCnts = contours.sort_contours(refCnts, method=\"left-to-right\")[0]\n",
    " \n",
    "# create a clone of the original image so we can draw on it\n",
    "clone = np.dstack([thresholded.copy()] * 3)\n",
    " \n",
    "# loop over the (sorted) contours\n",
    "for c in refCnts:\n",
    "    # compute the bounding box of the contour and draw it on our\n",
    "    # image\n",
    "    (x, y, w, h) = cv2.boundingRect(c)\n",
    "    cv2.rectangle(clone, (x, y), (x + w, y + h), (0, 255, 0), 2)\n",
    "\n",
    "plt.imshow(cv2.cvtColor(clone, cv2.COLOR_BGR2RGB))"
   ]
  },
  {
   "cell_type": "markdown",
   "metadata": {},
   "source": [
    "### With size filter"
   ]
  },
  {
   "cell_type": "code",
   "execution_count": 7,
   "metadata": {},
   "outputs": [
    {
     "name": "stdout",
     "output_type": "stream",
     "text": [
      "Contour count: 64\n"
     ]
    },
    {
     "data": {
      "text/plain": [
       "<matplotlib.image.AxesImage at 0x7f8b8ca53898>"
      ]
     },
     "execution_count": 7,
     "metadata": {},
     "output_type": "execute_result"
    },
    {
     "data": {
      "image/png": "[encoded data removed]",
      "text/plain": [
       "<matplotlib.figure.Figure at 0x7f8b8ed64e48>"
      ]
     },
     "metadata": {},
     "output_type": "display_data"
    }
   ],
   "source": [
    "clone = np.dstack([thresholded.copy()] * 3)\n",
    "cntsCount = 0\n",
    "\n",
    "for c in refCnts:\n",
    "    (x, y, w, h) = cv2.boundingRect(c)\n",
    "    if ((w < width / 9) and (h < height / 9 ) and (w > 7) and (h > 7)):  # 9 digits in serial\n",
    "        cntsCount += 1\n",
    "        cv2.rectangle(clone, (x, y), (x + w, y + h), (0, 255, 0), 2)\n",
    "\n",
    "print(\"Contour count: \" + str(cntsCount))\n",
    "plt.imshow(cv2.cvtColor(clone, cv2.COLOR_BGR2RGB))"
   ]
  },
  {
   "cell_type": "markdown",
   "metadata": {
    "collapsed": true
   },
   "source": [
    "### Full heuristic analysis"
   ]
  },
  {
   "cell_type": "code",
   "execution_count": 102,
   "metadata": {},
   "outputs": [
    {
     "name": "stdout",
     "output_type": "stream",
     "text": [
      "ROISizedCnts: 64\n",
      "9\n",
      "10\n",
      "10\n",
      "Group count: 3\n",
      "Iterations: 5158\n",
      "CPU times: user 54.5 ms, sys: 0 ns, total: 54.5 ms\n",
      "Wall time: 54.2 ms\n"
     ]
    },
    {
     "data": {
      "image/png": "[encoded data removed]",
      "text/plain": [
       "<matplotlib.figure.Figure at 0x7f8b844ea400>"
      ]
     },
     "metadata": {},
     "output_type": "display_data"
    }
   ],
   "source": [
    "%%time\n",
    "\n",
    "clone = np.dstack([thresholded.copy()] * 3)\n",
    "colors = [(255, 0, 0), (0, 255, 0), (0, 0, 255), (255, 255, 0), (0, 255, 255)]\n",
    "\n",
    "def appendROICnts(ROISizedCnts, baseIndex, ROICnts, UsedROICandidate, groupCount, iterations, x, y, w, h, dimension):\n",
    "\n",
    "    ROICntsCandidate = []\n",
    "    compareIndex = 0\n",
    "    for compC in ROISizedCnts:\n",
    "        # already used\n",
    "        if (compareIndex in UsedROICandidate):\n",
    "            compareIndex += 1\n",
    "            continue\n",
    "\n",
    "        iterations += 1\n",
    "        (cx, cy, cw, ch) = cv2.boundingRect(compC)\n",
    "        # Contours are close and same enought\n",
    "        if (((abs(x - cx) < 15) and (abs((x + w) - (cx + cw)) < 15) and (abs(w - cw) < 15) and (dimension == 'x')) or \n",
    "           ((abs(y - cy) < 15) and (abs((y + h) - (cy + ch)) < 15) and (abs(h - ch) < 15) and (dimension == 'y'))):\n",
    "            ROICntsCandidate.append(compareIndex)\n",
    "        \n",
    "        compareIndex += 1\n",
    "    \n",
    "    if (len(ROICntsCandidate) > 8):  # 9 digits\n",
    "        print(len(ROICntsCandidate))\n",
    "        groupROICnts = []\n",
    "        for index in ROICntsCandidate:  # add to ROI\n",
    "            iterations += 1\n",
    "            groupROICnts.append(ROISizedCnts[index])\n",
    "            (x2, y2, w2, h2) = cv2.boundingRect(ROISizedCnts[index])\n",
    "            cv2.rectangle(clone, (x2, y2), (x2 + w2, y2 + h2), colors[groupCount], 2)\n",
    "            if (index != baseIndex):\n",
    "                UsedROICandidate.append(index)  # remove trash from base array\n",
    "            else:\n",
    "                if (dimension == 'y'):\n",
    "                    UsedROICandidate.append(index)\n",
    "        groupCount += 1\n",
    "        if (dimension == 'x'):\n",
    "            ROICnts.append(contours.sort_contours(groupROICnts, method=\"bottom-to-top\")[0])\n",
    "        if (dimension == 'y'):\n",
    "            ROICnts.append(contours.sort_contours(groupROICnts, method=\"left-to-right\")[0])\n",
    "                    \n",
    "    return ROICnts, UsedROICandidate, groupCount, iterations\n",
    "\n",
    "\n",
    "ROISizedCnts = []\n",
    "ROICnts = []\n",
    "iterations = 0\n",
    "\n",
    "# size filter\n",
    "for c in refCnts:\n",
    "    iterations += 1\n",
    "    (x, y, w, h) = cv2.boundingRect(c)\n",
    "    if ((w < width / 9) and (h < height / 9 ) and (w > 7) and (h > 7)):  # 9 digits in serial must be on image\n",
    "        ROISizedCnts.append(c)\n",
    "\n",
    "print(\"ROISizedCnts: \" + str(len(ROISizedCnts)))   \n",
    "        \n",
    "# positionin filter\n",
    "UsedROICandidate = []\n",
    "baseIndex = 0\n",
    "groupCount = 0\n",
    "for c in ROISizedCnts:  \n",
    "    # already used\n",
    "    if (baseIndex in UsedROICandidate): \n",
    "        baseIndex += 1\n",
    "        continue\n",
    "\n",
    "    iterations += 1       \n",
    "    (x, y, w, h) = cv2.boundingRect(c)   \n",
    "    \n",
    "    # Compare for x dimension\n",
    "    ROICnts, UsedROICandidate, groupCount, iterations = appendROICnts(\n",
    "        ROISizedCnts, \n",
    "        baseIndex, \n",
    "        ROICnts, \n",
    "        UsedROICandidate, \n",
    "        groupCount, \n",
    "        iterations, \n",
    "        x, y, w, h, 'x')\n",
    "            \n",
    "    # Compare for y dimension\n",
    "    ROICnts, UsedROICandidate, groupCount, iterations = appendROICnts(\n",
    "        ROISizedCnts, \n",
    "        baseIndex, \n",
    "        ROICnts, \n",
    "        UsedROICandidate, \n",
    "        groupCount, \n",
    "        iterations, \n",
    "        x, y, w, h, 'y')\n",
    "    \n",
    "    baseIndex += 1\n",
    "        \n",
    "print(\"Group count: \" + str(groupCount))\n",
    "print(\"Iterations: \" + str(iterations))\n",
    "plt.imshow(cv2.cvtColor(clone, cv2.COLOR_BGR2RGB))"
   ]
  },
  {
   "cell_type": "markdown",
   "metadata": {},
   "source": [
    "## Here is result"
   ]
  },
  {
   "cell_type": "code",
   "execution_count": 103,
   "metadata": {},
   "outputs": [
    {
     "data": {
      "image/png": "[encoded data removed]",
      "text/plain": [
       "<matplotlib.figure.Figure at 0x7f8b8409c8d0>"
      ]
     },
     "metadata": {},
     "output_type": "display_data"
    }
   ],
   "source": [
    "fig = plt.figure(figsize=(15, 15))\n",
    "\n",
    "group = 0\n",
    "for groupROICnts in ROICnts:\n",
    "    contourIndex = 0\n",
    "    for c in groupROICnts:\n",
    "        contourIndex += 1\n",
    "        a = fig.add_subplot(groupCount, 15, group * 15 + contourIndex)\n",
    "        clone = np.dstack([thresholded.copy()] * 3)\n",
    "        (x, y, w, h) = cv2.boundingRect(c)\n",
    "        imgplot = plt.imshow(cv2.cvtColor(clone[y:y+h, x:x+w], cv2.COLOR_BGR2RGB))\n",
    "    group += 1\n",
    "\n",
    "plt.show()"
   ]
  },
  {
   "cell_type": "markdown",
   "metadata": {
    "collapsed": true
   },
   "source": [
    "### Sort contours"
   ]
  },
  {
   "cell_type": "code",
   "execution_count": 101,
   "metadata": {
    "collapsed": true
   },
   "outputs": [],
   "source": [
    "def sort_contours(cnts, method=\"left-to-right\"):\n",
    "\t# initialize the reverse flag and sort index\n",
    "\treverse = False\n",
    "\ti = 0\n",
    " \n",
    "\t# handle if we need to sort in reverse\n",
    "\tif method == \"right-to-left\" or method == \"bottom-to-top\":\n",
    "\t\treverse = True\n",
    " \n",
    "\t# handle if we are sorting against the y-coordinate rather than\n",
    "\t# the x-coordinate of the bounding box\n",
    "\tif method == \"top-to-bottom\" or method == \"bottom-to-top\":\n",
    "\t\ti = 1\n",
    " \n",
    "\t# construct the list of bounding boxes and sort them from top to\n",
    "\t# bottom\n",
    "\tboundingBoxes = [cv2.boundingRect(c) for c in cnts]\n",
    "\t(cnts, boundingBoxes) = zip(*sorted(zip(cnts, boundingBoxes),\n",
    "\t\tkey=lambda b:b[1][i], reverse=reverse))\n",
    " \n",
    "\t# return the list of sorted contours and bounding boxes\n",
    "\treturn (cnts, boundingBoxes)"
   ]
  },
  {
   "cell_type": "code",
   "execution_count": null,
   "metadata": {
    "collapsed": true
   },
   "outputs": [],
   "source": []
  }
 ],
 "metadata": {
  "kernelspec": {
   "display_name": "Python 3",
   "language": "python",
   "name": "python3"
  },
  "language_info": {
   "codemirror_mode": {
    "name": "ipython",
    "version": 3
   },
   "file_extension": ".py",
   "mimetype": "text/x-python",
   "name": "python",
   "nbconvert_exporter": "python",
   "pygments_lexer": "ipython3",
   "version": "3.6.1"
  }
 },
 "nbformat": 4,
 "nbformat_minor": 2
}

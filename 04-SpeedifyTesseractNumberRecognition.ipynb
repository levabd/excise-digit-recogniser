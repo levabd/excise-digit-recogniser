{
 "cells": [
  {
   "cell_type": "code",
   "execution_count": 6,
   "metadata": {},
   "outputs": [
    {
     "name": "stdout",
     "output_type": "stream",
     "text": [
      "The line_profiler extension is already loaded. To reload it, use:\n",
      "  %reload_ext line_profiler\n"
     ]
    }
   ],
   "source": [
    "# Base import and functions\n",
    "\n",
    "import imutils\n",
    "import cv2\n",
    "from imutils import contours\n",
    "\n",
    "from tqdm import tqdm\n",
    "\n",
    "import pytesseract             # Python interface to tesseract for OCR\n",
    "\n",
    "import numpy as np\n",
    "from PIL import Image\n",
    "\n",
    "%matplotlib inline\n",
    "\n",
    "import matplotlib\n",
    "import matplotlib.pyplot as plt\n",
    "import matplotlib.image as mpimg\n",
    "\n",
    "%load_ext line_profiler\n",
    "\n",
    "\n",
    "def appendROICnts(\n",
    "    ROISizedCnts, \n",
    "    baseIndex, \n",
    "    ROICnts, \n",
    "    UsedROICandidate, \n",
    "    groupCount, \n",
    "    iterations, \n",
    "    x, y, w, h, \n",
    "    dimension):\n",
    "\n",
    "    ROICntsCandidate = []\n",
    "    compareIndex = 0\n",
    "    for compC in ROISizedCnts:\n",
    "        # already used\n",
    "        if (compareIndex in UsedROICandidate):\n",
    "            compareIndex += 1\n",
    "            continue\n",
    "\n",
    "        iterations += 1\n",
    "        (cx, cy, cw, ch) = cv2.boundingRect(compC)\n",
    "        # Contours are close and same enought\n",
    "        if (((abs(x - cx) < 15) and (abs((x + w) - (cx + cw)) < 15) and (abs(w - cw) < 15) and (dimension == 'x')) or \n",
    "           ((abs(y - cy) < 15) and (abs((y + h) - (cy + ch)) < 15) and (abs(h - ch) < 15) and (dimension == 'y'))):\n",
    "            ROICntsCandidate.append(compareIndex)\n",
    "        \n",
    "        compareIndex += 1\n",
    "    \n",
    "    if (len(ROICntsCandidate) > 8):  # 9 digits\n",
    "        groupROICnts = []\n",
    "        for index in ROICntsCandidate:  # add to ROI\n",
    "            iterations += 1\n",
    "            groupROICnts.append(ROISizedCnts[index])\n",
    "            if (index != baseIndex):\n",
    "                UsedROICandidate.append(index)  # remove trash from base array\n",
    "            else:\n",
    "                if (dimension == 'y'):\n",
    "                    UsedROICandidate.append(index)\n",
    "        groupCount += 1\n",
    "        if (dimension == 'x'):\n",
    "            ROICnts.append({ 'orientation': 'vertical', 'contours': contours.sort_contours(groupROICnts, method=\"bottom-to-top\")[0] })\n",
    "        if (dimension == 'y'):\n",
    "            ROICnts.append({ 'orientation': 'horisontal', 'contours': contours.sort_contours(groupROICnts, method=\"left-to-right\")[0] })\n",
    "                    \n",
    "    return ROICnts, UsedROICandidate, groupCount, iterations\n",
    "\n",
    "\n",
    "def excise_segmentation(image):\n",
    "    %%time\n",
    "    \n",
    "    resized = imutils.resize(image, height=500)\n",
    "    \n",
    "    gray = cv2.cvtColor(resized, cv2.COLOR_BGR2GRAY)\n",
    "    equ = cv2.equalizeHist(gray)\n",
    "    # blurred = cv2.medianBlur(equ, 3)\n",
    "    blurred = cv2.GaussianBlur(equ, (3, 3), 0)\n",
    "    _, thresholded = cv2.threshold(blurred, 0, 255, cv2.THRESH_BINARY+cv2.THRESH_OTSU)\n",
    " \n",
    "    # return the segmentationed image\n",
    "    return resized, equ, thresholded\n",
    "\n",
    "\n",
    "def select_contours(thresholded):\n",
    "    \n",
    "    refCnts = cv2.findContours(cv2.Canny(thresholded, 30, 200).copy(), cv2.RETR_EXTERNAL, cv2.CHAIN_APPROX_SIMPLE)[1]\n",
    "    \n",
    "    width, height = thresholded.shape[:2]\n",
    "    ROISizedCnts = []\n",
    "    ROICnts = []\n",
    "    iterations = 0\n",
    "\n",
    "    # size filter\n",
    "    for c in refCnts:\n",
    "        iterations += 1\n",
    "        (x, y, w, h) = cv2.boundingRect(c)\n",
    "        if ((w < width / 9) and (h < height / 9 ) and (w > 7) and (h > 7)):  # 9 digits in serial must be on image\n",
    "            ROISizedCnts.append(c)\n",
    "\n",
    "    # positionin filter\n",
    "    UsedROICandidate = []\n",
    "    baseIndex = 0\n",
    "    groupCount = 0\n",
    "    for c in ROISizedCnts:  \n",
    "        # already used\n",
    "        if (baseIndex in UsedROICandidate): \n",
    "            baseIndex += 1\n",
    "            continue\n",
    "\n",
    "        iterations += 1       \n",
    "        (x, y, w, h) = cv2.boundingRect(c)   \n",
    "\n",
    "        # Compare for x dimension\n",
    "        ROICnts, UsedROICandidate, groupCount, iterations = appendROICnts(\n",
    "            ROISizedCnts, \n",
    "            baseIndex, \n",
    "            ROICnts, \n",
    "            UsedROICandidate, \n",
    "            groupCount, \n",
    "            iterations, \n",
    "            x, y, w, h, 'x'\n",
    "        )\n",
    "\n",
    "        # Compare for y dimension\n",
    "        ROICnts, UsedROICandidate, groupCount, iterations = appendROICnts(\n",
    "            ROISizedCnts, \n",
    "            baseIndex, \n",
    "            ROICnts, \n",
    "            UsedROICandidate, \n",
    "            groupCount, \n",
    "            iterations, \n",
    "            x, y, w, h, 'y'\n",
    "        )\n",
    "\n",
    "        baseIndex += 1\n",
    "        \n",
    "    return ROICnts\n",
    "\n",
    "\n",
    "def recognize_contour(ROICnts, thresholded):\n",
    "    \n",
    "    group = 0\n",
    "    numberCandidate = \"\"\n",
    "    for groupROICnts in ROICnts:\n",
    "        contourIndex = 0\n",
    "        currentGroupOrientation = groupROICnts['orientation']\n",
    "        lastDigitRecognised = False\n",
    "        for c in tqdm(groupROICnts['contours']):\n",
    "            (x, y, w, h) = cv2.boundingRect(c)\n",
    "            currentDigitCandidate = thresholded[y:y+h, x:x+w]\n",
    "            if (currentGroupOrientation == 'vertical'):\n",
    "                currentDigitCandidate = np.rot90(currentDigitCandidate, k=1, axes=(1,0))\n",
    "            currentDigitCandidate = cv2.copyMakeBorder(currentDigitCandidate, 10, 10, 10, 10, cv2.BORDER_CONSTANT, value=[255,255,255])\n",
    "            recognized_digit = pytesseract.image_to_string(Image.fromarray(currentDigitCandidate, \"L\"), \n",
    "                                                                 config=\"--tessdata-dir ./tessdata -psm 10 -oem 3 -l eng \" + \n",
    "                \"-c tessedit_char_whitelist=1234567890 pitsync_linear_version=8\")\n",
    "            if ((contourIndex > 0) and (not recognized_digit.isspace()) \n",
    "                and (not lastDigitRecognised)):     # if digit after not recognized\n",
    "                numberCandidate = recognized_digit  # start collection digits again\n",
    "                lastDigitRecognised = True\n",
    "            else:\n",
    "                if (recognized_digit.isspace()):\n",
    "                    lastDigitRecognised = False\n",
    "                else:\n",
    "                    numberCandidate += recognized_digit\n",
    "                    lastDigitRecognised = True\n",
    "            contourIndex += 1\n",
    "        if (len(numberCandidate) < 9):\n",
    "            numberCandidate = \"\"\n",
    "        group += 1\n",
    "        \n",
    "    return numberCandidate"
   ]
  },
  {
   "cell_type": "code",
   "execution_count": 57,
   "metadata": {},
   "outputs": [
    {
     "name": "stderr",
     "output_type": "stream",
     "text": [
      " 11%|█         | 1/9 [00:00<00:01,  7.78it/s]"
     ]
    },
    {
     "name": "stdout",
     "output_type": "stream",
     "text": [
      "CPU times: user 3 µs, sys: 0 ns, total: 3 µs\n",
      "Wall time: 6.44 µs\n"
     ]
    },
    {
     "name": "stderr",
     "output_type": "stream",
     "text": [
      "100%|██████████| 9/9 [00:01<00:00,  7.50it/s]\n",
      "100%|██████████| 9/9 [00:01<00:00,  7.39it/s]\n",
      "100%|██████████| 10/10 [00:01<00:00,  7.45it/s]"
     ]
    },
    {
     "name": "stdout",
     "output_type": "stream",
     "text": [
      "Excise Number: 016410018\n",
      "CPU times: user 260 ms, sys: 163 ms, total: 423 ms\n",
      "Wall time: 3.95 s\n"
     ]
    },
    {
     "name": "stderr",
     "output_type": "stream",
     "text": [
      "\n"
     ]
    }
   ],
   "source": [
    "%%time\n",
    "\n",
    "excise_src = cv2.imread(\"test_data/IMG_0307.JPG\")\n",
    "\n",
    "resized, equ, thresholded = excise_segmentation(excise_src)\n",
    "ROICnts = select_contours(thresholded)\n",
    "numberCandidate = recognize_contour(ROICnts, thresholded)\n",
    "\n",
    "print(\"Excise Number: \" + str(numberCandidate))"
   ]
  },
  {
   "cell_type": "markdown",
   "metadata": {},
   "source": [
    "## Too slow :("
   ]
  },
  {
   "cell_type": "code",
   "execution_count": 64,
   "metadata": {
    "collapsed": true
   },
   "outputs": [],
   "source": [
    "def recognize_contour_v2(ROICnts, thresholded, equ):\n",
    "    \n",
    "    group = 0\n",
    "    numberCandidate = \"\"\n",
    "    for groupROICnts in tqdm(ROICnts):\n",
    "        contourIndex = 0\n",
    "        currentGroupOrientation = groupROICnts['orientation']\n",
    "        (x, y, w, h) = cv2.boundingRect(groupROICnts['contours'][0])\n",
    "        left = x\n",
    "        top = y\n",
    "        right = x + w\n",
    "        bottom = y + h\n",
    "        for c in groupROICnts['contours']:\n",
    "            contourIndex += 1\n",
    "            (x, y, w, h) = cv2.boundingRect(c)\n",
    "            if x < left: left = x\n",
    "            if y < top: top = y\n",
    "            if (x + w > right): right = x + w\n",
    "            if (y + h > bottom): bottom = y + h\n",
    "\n",
    "        _, currentDigitCandidate = cv2.threshold(equ[top:bottom, left:right], 0, 255, cv2.THRESH_BINARY+cv2.THRESH_OTSU)\n",
    "        group += 1\n",
    "        if (currentGroupOrientation == 'vertical'):\n",
    "            currentDigitCandidate = np.rot90(currentDigitCandidate, k=1, axes=(1,0))\n",
    "        currentDigitCandidate = cv2.copyMakeBorder(currentDigitCandidate, 10, 10, 10, 10, cv2.BORDER_CONSTANT, value=[255,255,255])\n",
    "        numberCandidate = pytesseract.image_to_string(Image.fromarray(currentDigitCandidate, \"L\"), \n",
    "                                                   config=\"--tessdata-dir ./tessdata -psm 8 -oem 3 -l eng -c tessedit_char_whitelist=1234567890 nobatch digits\")\n",
    "        \n",
    "    return numberCandidate"
   ]
  },
  {
   "cell_type": "code",
   "execution_count": 65,
   "metadata": {},
   "outputs": [
    {
     "name": "stderr",
     "output_type": "stream",
     "text": [
      "\r",
      "  0%|          | 0/3 [00:00<?, ?it/s]"
     ]
    },
    {
     "name": "stdout",
     "output_type": "stream",
     "text": [
      "CPU times: user 3 µs, sys: 0 ns, total: 3 µs\n",
      "Wall time: 6.2 µs\n"
     ]
    },
    {
     "name": "stderr",
     "output_type": "stream",
     "text": [
      "100%|██████████| 3/3 [00:00<00:00,  4.57it/s]"
     ]
    },
    {
     "name": "stdout",
     "output_type": "stream",
     "text": [
      "Excise Number: 316419013\n",
      "CPU times: user 201 ms, sys: 29.4 ms, total: 231 ms\n",
      "Wall time: 845 ms\n"
     ]
    },
    {
     "name": "stderr",
     "output_type": "stream",
     "text": [
      "\n"
     ]
    }
   ],
   "source": [
    "%%time\n",
    "\n",
    "excise_src = cv2.imread(\"test_data/IMG_0307.JPG\")\n",
    "\n",
    "resized, equ, thresholded = excise_segmentation(excise_src)\n",
    "ROICnts = select_contours(thresholded)\n",
    "numberCandidate = recognize_contour_v2(ROICnts, thresholded)\n",
    "\n",
    "print(\"Excise Number: \" + str(numberCandidate))"
   ]
  },
  {
   "cell_type": "markdown",
   "metadata": {},
   "source": [
    "## So we can't use tesseract indeed.\n",
    "\n",
    "It slow if recognize digit one by one and has low accuracy if group recognition\n",
    "\n",
    "Try to optimize heuristic analisys"
   ]
  },
  {
   "cell_type": "code",
   "execution_count": 8,
   "metadata": {
    "collapsed": true
   },
   "outputs": [],
   "source": [
    "def recognize_contour_v3(ROICnts, thresholded, equ, debug=False):\n",
    "    if debug:\n",
    "        fig = plt.figure(figsize=(15, 15))\n",
    "    \n",
    "    group = 0\n",
    "    numberCandidate = \"\"\n",
    "    for groupROICnts in tqdm(ROICnts):\n",
    "        contourIndex = 0\n",
    "        currentGroupOrientation = groupROICnts['orientation']\n",
    "        (x, y, w, h) = cv2.boundingRect(groupROICnts['contours'][0])\n",
    "        last_right = x\n",
    "        last_top = y + h\n",
    "        left = x\n",
    "        top = y\n",
    "        right = x + w\n",
    "        bottom = y + h\n",
    "        mergedContours = 0\n",
    "        for c in groupROICnts['contours']:\n",
    "            contourIndex += 1\n",
    "            (x, y, w, h) = cv2.boundingRect(c)     \n",
    "\n",
    "            if (currentGroupOrientation == 'horisontal'):\n",
    "                if (x - last_right) > 10:  # already sorted and too big distance between chars\n",
    "                    if (mergedContours > 8) or (len(groupROICnts['contours']) < mergedContours + 9):\n",
    "                        break\n",
    "                    else:  # start again\n",
    "                        left = x\n",
    "                        right = x + w\n",
    "                        top = y\n",
    "                        bottom = y + h\n",
    "                        mergedContours = 1\n",
    "                else:\n",
    "                    if x < left: left = x\n",
    "                    if (x + w > right): right = x + w\n",
    "                    if y < top: top = y\n",
    "                    if (y + h > bottom): bottom = y + h\n",
    "                    mergedContours += 1\n",
    "\n",
    "            if (currentGroupOrientation == 'vertical'):\n",
    "                if (last_top - y - h) > 10:  # already sorted and too big distance between chars\n",
    "                    if (mergedContours > 8) or (len(groupROICnts['contours']) < mergedContours + 9):\n",
    "                        break\n",
    "                    else:  # start again\n",
    "                        top = y\n",
    "                        bottom = y + h\n",
    "                        left = x\n",
    "                        right = x + w\n",
    "                        mergedContours = 1\n",
    "                else:\n",
    "                    if y < top: top = y\n",
    "                    if (y + h > bottom): bottom = y + h\n",
    "                    if x < left: left = x\n",
    "                    if (x + w > right): right = x + w\n",
    "                    mergedContours += 1\n",
    "\n",
    "            last_right = x + w\n",
    "            last_top = y  \n",
    "\n",
    "        group += 1\n",
    "        if mergedContours < 9:\n",
    "            continue\n",
    "\n",
    "        _, currentDigitCandidate = cv2.threshold(equ[top:bottom, left:right], 0, 255, cv2.THRESH_BINARY+cv2.THRESH_OTSU)\n",
    "        # currentDigitCandidate = thresholded[top:bottom, left:right]\n",
    "        if debug:\n",
    "            a = fig.add_subplot(len(ROICnts), 1, group)\n",
    "        if (currentGroupOrientation == 'vertical'):\n",
    "            currentDigitCandidate = np.rot90(currentDigitCandidate, k=1, axes=(1,0))\n",
    "        currentDigitCandidate = cv2.copyMakeBorder(currentDigitCandidate, 10, 10, 10, 10, cv2.BORDER_CONSTANT, value=[255,255,255])\n",
    "        numberCandidate = pytesseract.image_to_string(Image.fromarray(currentDigitCandidate, \"L\"), \n",
    "                                                   config=\"--tessdata-dir ./tessdata -psm 8 -oem 3 -c tessedit_char_whitelist=1234567890 nobatch digits\")\n",
    "        if debug:\n",
    "            imgplot = plt.imshow(cv2.cvtColor(currentDigitCandidate, cv2.COLOR_GRAY2RGB))\n",
    "            a.set_title(\"Digit: \" + str(numberCandidate))\n",
    "        \n",
    "    return numberCandidate"
   ]
  },
  {
   "cell_type": "code",
   "execution_count": 92,
   "metadata": {},
   "outputs": [
    {
     "name": "stderr",
     "output_type": "stream",
     "text": [
      "\r",
      "  0%|          | 0/3 [00:00<?, ?it/s]"
     ]
    },
    {
     "name": "stdout",
     "output_type": "stream",
     "text": [
      "CPU times: user 3 µs, sys: 0 ns, total: 3 µs\n",
      "Wall time: 5.96 µs\n"
     ]
    },
    {
     "name": "stderr",
     "output_type": "stream",
     "text": [
      "100%|██████████| 3/3 [00:00<00:00, 16.22it/s]\n"
     ]
    },
    {
     "name": "stdout",
     "output_type": "stream",
     "text": [
      "Excise Number: 016410018\n",
      "CPU times: user 237 ms, sys: 20.4 ms, total: 257 ms\n",
      "Wall time: 381 ms\n"
     ]
    },
    {
     "data": {
      "image/png": "[encoded data removed]",
      "text/plain": [
       "<matplotlib.figure.Figure at 0x7f6a9b4d9e10>"
      ]
     },
     "metadata": {},
     "output_type": "display_data"
    }
   ],
   "source": [
    "%%time\n",
    "\n",
    "excise_src = cv2.imread(\"test_data/IMG_0307.JPG\")\n",
    "\n",
    "resized, equ, thresholded = excise_segmentation(excise_src)\n",
    "ROICnts = select_contours(thresholded)\n",
    "numberCandidate = recognize_contour_v3(ROICnts, thresholded, True)\n",
    "\n",
    "print(\"Excise Number: \" + str(numberCandidate))"
   ]
  },
  {
   "cell_type": "code",
   "execution_count": 9,
   "metadata": {
    "collapsed": true
   },
   "outputs": [],
   "source": [
    "def fast_excise_number_recognition(src_image):\n",
    "    \n",
    "    resized, equ, thresholded = excise_segmentation(src_image)\n",
    "    ROICnts = select_contours(thresholded)\n",
    "    numberCandidate = recognize_contour_v3(ROICnts, thresholded, equ)\n",
    "    \n",
    "    print(numberCandidate)\n",
    "    \n",
    "    return resized, numberCandidate"
   ]
  },
  {
   "cell_type": "code",
   "execution_count": 12,
   "metadata": {},
   "outputs": [
    {
     "name": "stderr",
     "output_type": "stream",
     "text": [
      "100%|██████████| 3/3 [00:00<00:00, 19.79it/s]"
     ]
    },
    {
     "name": "stdout",
     "output_type": "stream",
     "text": [
      "CPU times: user 3 µs, sys: 1e+03 ns, total: 4 µs\n",
      "Wall time: 6.91 µs\n",
      "016410018\n"
     ]
    },
    {
     "name": "stderr",
     "output_type": "stream",
     "text": [
      "\n",
      "0it [00:00, ?it/s]\n"
     ]
    },
    {
     "name": "stdout",
     "output_type": "stream",
     "text": [
      "CPU times: user 2 µs, sys: 1e+03 ns, total: 3 µs\n",
      "Wall time: 6.91 µs\n",
      "\n",
      "\n"
     ]
    },
    {
     "data": {
      "image/png": "[encoded data removed]",
      "text/plain": [
       "<matplotlib.figure.Figure at 0x7fb2b4b7a470>"
      ]
     },
     "metadata": {},
     "output_type": "display_data"
    },
    {
     "name": "stdout",
     "output_type": "stream",
     "text": [
      "CPU times: user 767 ms, sys: 391 ms, total: 1.16 s\n",
      "Wall time: 850 ms\n"
     ]
    }
   ],
   "source": [
    "%%time\n",
    "\n",
    "excise1=cv2.imread(\"test_data/IMG_0307.JPG\")\n",
    "excise2=cv2.imread(\"test_data/IMG_0287.JPG\")\n",
    "\n",
    "fig = plt.figure(figsize=(5, 5))\n",
    "\n",
    "a = fig.add_subplot(2, 2, 1)\n",
    "\n",
    "resized, number = fast_excise_number_recognition(excise1)\n",
    "\n",
    "imgplot = plt.imshow(cv2.cvtColor(resized, cv2.COLOR_BGR2RGB))\n",
    "a.set_title(\"Number: \" + str(number))\n",
    "\n",
    "a = fig.add_subplot(2, 2, 2)\n",
    "\n",
    "resized2, number2 = fast_excise_number_recognition(excise2)\n",
    "\n",
    "imgplot = plt.imshow(cv2.cvtColor(resized2, cv2.COLOR_BGR2RGB))\n",
    "a.set_title(\"Number: \" + str(number2))\n",
    "\n",
    "print(number2)\n",
    "\n",
    "plt.show()"
   ]
  },
  {
   "cell_type": "code",
   "execution_count": null,
   "metadata": {
    "collapsed": true
   },
   "outputs": [],
   "source": []
  }
 ],
 "metadata": {
  "kernelspec": {
   "display_name": "Python 3",
   "language": "python",
   "name": "python3"
  },
  "language_info": {
   "codemirror_mode": {
    "name": "ipython",
    "version": 3
   },
   "file_extension": ".py",
   "mimetype": "text/x-python",
   "name": "python",
   "nbconvert_exporter": "python",
   "pygments_lexer": "ipython3",
   "version": "3.6.1"
  }
 },
 "nbformat": 4,
 "nbformat_minor": 2
}
